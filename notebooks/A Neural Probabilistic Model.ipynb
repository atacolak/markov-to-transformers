{
 "cells": [
  {
   "cell_type": "code",
   "execution_count": 456,
   "metadata": {},
   "outputs": [],
   "source": [
    "import torch\n",
    "import torch.nn.functional as F\n",
    "import matplotlib.pyplot as plt\n",
    "\n",
    "with open('markov-to-transformers/data/names.txt', 'r') as f:\n",
    "    names = f.read().splitlines()"
   ]
  },
  {
   "cell_type": "code",
   "execution_count": 194,
   "metadata": {},
   "outputs": [],
   "source": [
    "chrs = {ch for name in names for ch in name}\n",
    "chrs.add('.')\n",
    "i_to_s = {i: chr for i, chr in enumerate(sorted(chrs))}\n",
    "s_to_i = {v: k for k, v in i_to_s.items()}"
   ]
  },
  {
   "cell_type": "code",
   "execution_count": 379,
   "metadata": {},
   "outputs": [],
   "source": [
    "block_size = 3\n",
    "X, Y = [], []\n",
    "\n",
    "for name in names:\n",
    "    #print(name)\n",
    "    name = f\"{name}.\" \n",
    "    context = [0] * block_size # add as many start tokens as block size\n",
    "    for ch in name:\n",
    "        X.append(context)\n",
    "        Y.append(s_to_i[ch])\n",
    "        #print(f\"{''.join([i_to_s[w] for w in context])} --> {ch}\")\n",
    "        context = context[1:] + [s_to_i[ch]]\n",
    "    #print('--------')\n",
    "X = torch.tensor(X) # inputs to the neural net\n",
    "Y = torch.tensor(Y) # labels (ground truth)"
   ]
  },
  {
   "cell_type": "code",
   "execution_count": 117,
   "metadata": {},
   "outputs": [
    {
     "name": "stdout",
     "output_type": "stream",
     "text": [
      "[0, 0, 0][...] ---> [5][e]\n",
      "[0, 0, 5][..e] ---> [13][m]\n",
      "[0, 5, 13][.em] ---> [13][m]\n",
      "[5, 13, 13][emm] ---> [1][a]\n",
      "[13, 13, 1][mma] ---> [0][.]\n",
      "[0, 0, 0][...] ---> [15][o]\n",
      "[0, 0, 15][..o] ---> [12][l]\n",
      "[0, 15, 12][.ol] ---> [9][i]\n",
      "[15, 12, 9][oli] ---> [22][v]\n",
      "[12, 9, 22][liv] ---> [9][i]\n"
     ]
    },
    {
     "data": {
      "text/plain": [
       "(torch.Size([32, 3]), torch.Size([32]))"
      ]
     },
     "execution_count": 117,
     "metadata": {},
     "output_type": "execute_result"
    }
   ],
   "source": [
    "for row_x, row_y in zip(X[:10], Y[:10]):\n",
    "    print(f\"{[val.item() for val in row_x]}[{''.join([i_to_s[val.item()] for val in row_x])}] ---> \",end='')\n",
    "    print(f\"[{row_y.item()}][{i_to_s[row_y.item()]}]\")\n",
    "X.shape, Y.shape"
   ]
  },
  {
   "cell_type": "code",
   "execution_count": null,
   "metadata": {},
   "outputs": [],
   "source": [
    "C = torch.randn((27, 2)) # embeddings for each character a to z + '.'\n",
    "emb = C[X] # retrieve embedding vector for each value in X. for each word: tensor(tensor('...'), tensor('..e'), tensor('.em'), ...)\n",
    "# ps. pytorch indexing is awesome\n",
    "W1 = torch.randn((6, 100))\n",
    "b1 = torch.randn(100)"
   ]
  },
  {
   "cell_type": "code",
   "execution_count": 298,
   "metadata": {},
   "outputs": [
    {
     "data": {
      "text/plain": [
       "torch.Size([32, 100])"
      ]
     },
     "execution_count": 298,
     "metadata": {},
     "output_type": "execute_result"
    }
   ],
   "source": [
    "h = torch.tanh(emb.view(-1, 6) @ W1 + b1)\n",
    "h.shape"
   ]
  },
  {
   "cell_type": "code",
   "execution_count": 312,
   "metadata": {},
   "outputs": [
    {
     "data": {
      "text/plain": [
       "torch.Size([32, 27])"
      ]
     },
     "execution_count": 312,
     "metadata": {},
     "output_type": "execute_result"
    }
   ],
   "source": [
    "W2 = torch.randn((100, 27))\n",
    "b2 = torch.randn(27)\n",
    "logits = h @ W2 + b2\n",
    "logits.shape"
   ]
  },
  {
   "cell_type": "code",
   "execution_count": 330,
   "metadata": {},
   "outputs": [
    {
     "data": {
      "text/plain": [
       "torch.Size([32, 27])"
      ]
     },
     "execution_count": 330,
     "metadata": {},
     "output_type": "execute_result"
    }
   ],
   "source": [
    "counts = logits.exp()\n",
    "probs = counts / counts.sum(1, keepdim=True)\n",
    "probs.shape"
   ]
  },
  {
   "cell_type": "code",
   "execution_count": 335,
   "metadata": {},
   "outputs": [
    {
     "data": {
      "text/plain": [
       "tensor(15.4113)"
      ]
     },
     "execution_count": 335,
     "metadata": {},
     "output_type": "execute_result"
    }
   ],
   "source": [
    "loss = -probs[torch.arange(32), Y].log().mean() # NLL\n",
    "loss"
   ]
  },
  {
   "cell_type": "code",
   "execution_count": 331,
   "metadata": {},
   "outputs": [
    {
     "data": {
      "text/plain": [
       "tensor([ 5, 13, 13,  1,  0, 15, 12,  9, 22,  9,  1,  0,  1, 22,  1,  0,  9, 19,\n",
       "         1,  2,  5, 12, 12,  1,  0, 19, 15, 16,  8,  9,  1,  0])"
      ]
     },
     "execution_count": 331,
     "metadata": {},
     "output_type": "execute_result"
    }
   ],
   "source": [
    "Y"
   ]
  },
  {
   "cell_type": "markdown",
   "metadata": {},
   "source": [
    "---"
   ]
  },
  {
   "cell_type": "code",
   "execution_count": null,
   "metadata": {},
   "outputs": [],
   "source": [
    "import random \n",
    "random.seed(42)"
   ]
  },
  {
   "cell_type": "code",
   "execution_count": 517,
   "metadata": {},
   "outputs": [],
   "source": [
    "def build_dataset(names):\n",
    "    ''' Builds a 80/10/10 dataset with each training data point in `block_size` dimensions.'''\n",
    "\n",
    "    block_size = 3\n",
    "    X, Y = [], []\n",
    "    for name in names:\n",
    "        #print(name)\n",
    "        name = f\"{name}.\" \n",
    "        context = [0] * block_size # add as many start tokens as block size\n",
    "        for ch in name:\n",
    "            X.append(context)\n",
    "            Y.append(s_to_i[ch])\n",
    "            #print(f\"{''.join([i_to_s[w] for w in context])} --> {ch}\")\n",
    "            context = context[1:] + [s_to_i[ch]]\n",
    "        #print('--------')\n",
    "    X = torch.tensor(X) # inputs to the neural net\n",
    "    Y = torch.tensor(Y) # labels (ground truth)\n",
    "    return X, Y\n",
    "\n",
    "random.shuffle(names)\n",
    "n1 = int(len(names)*0.8)\n",
    "n2 = int(len(names)*0.9)\n",
    "\n",
    "Xtr, Ytr = build_dataset(names[:n1])\n",
    "Xval, Yval = build_dataset(names[n1:n2])\n",
    "Xte, Yte = build_dataset(names[n2:])\n",
    "\n",
    "assert (len([ch for name in names for ch in name]) + len(names)) == sum((len(Ytr), len(Yval),len(Yte))),\\\n",
    "'Train/test/valid set size mismatch.'"
   ]
  },
  {
   "cell_type": "code",
   "execution_count": 538,
   "metadata": {},
   "outputs": [
    {
     "data": {
      "text/plain": [
       "(torch.Size([182441, 3]), torch.Size([182441]))"
      ]
     },
     "execution_count": 538,
     "metadata": {},
     "output_type": "execute_result"
    }
   ],
   "source": [
    "Xtr.shape, Ytr.shape"
   ]
  },
  {
   "cell_type": "code",
   "execution_count": 563,
   "metadata": {},
   "outputs": [
    {
     "name": "stdout",
     "output_type": "stream",
     "text": [
      "Number of parameters: 11897\n"
     ]
    }
   ],
   "source": [
    "g = torch.Generator().manual_seed(2147483647)\n",
    "C = torch.randn((27, 10), generator=g)\n",
    "W1 = torch.randn((30, 200), generator=g)\n",
    "b1 = torch.randn(200, generator=g)\n",
    "W2 = torch.randn((200, 27), generator=g)\n",
    "b2 = torch.randn(27, generator=g)\n",
    "params = [C, W1, b1, W2, b2]\n",
    "for p in params:\n",
    "    p.requires_grad = True\n",
    "    \n",
    "print(f\"Number of parameters: {sum(p.nelement() for p in params)}\")"
   ]
  },
  {
   "cell_type": "code",
   "execution_count": 562,
   "metadata": {},
   "outputs": [],
   "source": [
    "stepi = []\n",
    "lossi = []"
   ]
  },
  {
   "cell_type": "code",
   "execution_count": 572,
   "metadata": {},
   "outputs": [
    {
     "name": "stdout",
     "output_type": "stream",
     "text": [
      "--------------------------------------------------\n",
      "Trained for 50000 epochs.\n",
      "loss:2.3802831172943115\n"
     ]
    }
   ],
   "source": [
    "for i in range(50000):\n",
    "\n",
    "    # construct a minibatch \n",
    "    ix = torch.randint(0, Xtr.shape[0], (32,))\n",
    "    # forward pass\n",
    "    emb = C[Xtr[ix]]\n",
    "    h = torch.tanh(emb.view(-1, W1.shape[0]) @ W1 + b1)\n",
    "    logits = h @ W2 + b2\n",
    "    loss = F.cross_entropy(logits, Ytr[ix])\n",
    "    print(('-' if i % 1000 == 0 else ''),end='')\n",
    "    # backward pass\n",
    "    for p in params:\n",
    "        p.grad = None\n",
    "    loss.backward()\n",
    "\n",
    "    #update\n",
    "    for p in params:\n",
    "        p.data += -0.01 * p.grad\n",
    "\n",
    "    #track steps\n",
    "    lossi.append(loss.log10().item())\n",
    "    stepi.append(i)\n",
    "\n",
    "print(f\"\\nTrained for {i+1} epochs.\\nloss:{loss.item()}\")"
   ]
  },
  {
   "cell_type": "code",
   "execution_count": 573,
   "metadata": {},
   "outputs": [
    {
     "data": {
      "text/plain": [
       "[<matplotlib.lines.Line2D at 0x7a2464795610>]"
      ]
     },
     "execution_count": 573,
     "metadata": {},
     "output_type": "execute_result"
    },
    {
     "data": {
      "image/png": "[encoded data removed]",
      "text/plain": [
       "<Figure size 640x480 with 1 Axes>"
      ]
     },
     "metadata": {},
     "output_type": "display_data"
    }
   ],
   "source": [
    "plt.plot(stepi, lossi)"
   ]
  },
  {
   "cell_type": "code",
   "execution_count": 574,
   "metadata": {},
   "outputs": [
    {
     "name": "stdout",
     "output_type": "stream",
     "text": [
      "validation loss: 2.2237846851348877\n",
      "test loss: 2.230931043624878\n"
     ]
    }
   ],
   "source": [
    "# forward pass to calculate validation loss\n",
    "emb = C[Xval]\n",
    "h = torch.tanh(emb.view(-1, W1.shape[0]) @ W1 + b1)\n",
    "logits = h @ W2 + b2\n",
    "loss = F.cross_entropy(logits, Yval)\n",
    "print(f\"validation loss: {loss.item()}\")\n",
    "\n",
    "# forward pass to calculate test loss\n",
    "emb = C[Xte]\n",
    "h = torch.tanh(emb.view(-1, W1.shape[0]) @ W1 + b1)\n",
    "logits = h @ W2 + b2\n",
    "loss = F.cross_entropy(logits, Yte)\n",
    "print(f\"test loss: {loss.item()}\")"
   ]
  },
  {
   "cell_type": "code",
   "execution_count": 659,
   "metadata": {},
   "outputs": [
    {
     "name": "stdout",
     "output_type": "stream",
     "text": [
      "emen\n",
      "keyla\n",
      "noft\n",
      "kaira\n",
      "villa\n"
     ]
    }
   ],
   "source": [
    "\n",
    "for i in range(5):\n",
    "    context = [0] * block_size\n",
    "    word = ''\n",
    "    while True:\n",
    "        emb = C[context]\n",
    "        h = torch.tanh(emb.view(-1, C.shape[1] * X.shape[1]) @ W1 + b1)\n",
    "        logits = h @ W2 + b2\n",
    "        probs = F.softmax(logits, 1)\n",
    "        # 1, 30 ; 30, 200 -> 30, 200 ; 200, 27 -> 30, 27\n",
    "        pred = torch.multinomial(probs, 1).item()\n",
    "        context = context[1:] + [pred]\n",
    "        if context[-1] == 0:\n",
    "            break\n",
    "        word += i_to_s[context[-1]]\n",
    "    print(word)"
   ]
  }
 ],
 "metadata": {
  "kernelspec": {
   "display_name": "Python 3 (ipykernel)",
   "language": "python",
   "name": "python3"
  },
  "language_info": {
   "codemirror_mode": {
    "name": "ipython",
    "version": 3
   },
   "file_extension": ".py",
   "mimetype": "text/x-python",
   "name": "python",
   "nbconvert_exporter": "python",
   "pygments_lexer": "ipython3",
   "version": "3.12.3"
  }
 },
 "nbformat": 4,
 "nbformat_minor": 2
}
