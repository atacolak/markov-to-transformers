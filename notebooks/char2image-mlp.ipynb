{
 "cells": [
  {
   "cell_type": "markdown",
   "metadata": {},
   "source": [
    "# Glyph Generator MLP 🔡\n",
    "\n",
    "This notebook defines a minimal multilayer perceptron (MLP) that learns to draw characters. \n",
    "Each character is associated with a glyph image, and the model learns to generate those images from learned embeddings.\n",
    "\n",
    "Inspired by Karpathy's tiny deep learning experiments, this project draws each letter from scratch by learning to map from a symbolic character embedding to its pixel representation.\n"
   ]
  },
  {
   "cell_type": "markdown",
   "metadata": {},
   "source": [
    "## 1. Font Preprocessing\n",
    "\n",
    "Load a `.ttf` font and rasterize each character into a fixed resolution grayscale image. \n",
    "\n",
    "We normalize pixel values so that **black = 1.0** and **white = 0.0**."
   ]
  },
  {
   "cell_type": "code",
   "execution_count": 1,
   "metadata": {},
   "outputs": [],
   "source": [
    "def process_font(ttf_path, n):\n",
    "    from PIL import Image, ImageDraw, ImageFont\n",
    "    import numpy as np\n",
    "    import torch\n",
    "\n",
    "    font = ImageFont.truetype(ttf_path, size=100)\n",
    "    chars = \"abcdefghijklmnopqrstuvwxyz\"\n",
    "    out = {}\n",
    "    for ch in chars:\n",
    "        bbox = font.getbbox(ch)\n",
    "        w, h = bbox[2] - bbox[0], bbox[3] - bbox[1]\n",
    "        img = Image.new(\"L\", (w + 10, h + 10), 255)\n",
    "        draw = ImageDraw.Draw(img)\n",
    "        draw.text((5 - bbox[0], 5 - bbox[1]), ch, font=font, fill=0)\n",
    "        arr = np.array(img)\n",
    "        rows = np.where(np.any(arr < 255, axis=1))[0]\n",
    "        cols = np.where(np.any(arr < 255, axis=0))[0]\n",
    "        if rows.size and cols.size:\n",
    "            arr = arr[rows[0]:rows[-1] + 1, cols[0]:cols[-1] + 1]\n",
    "        cropped = Image.fromarray(arr)\n",
    "        resized = cropped.resize((n, n), resample=Image.BILINEAR)\n",
    "        out[ch] = torch.from_numpy(np.array(resized)).float()\n",
    "    return out"
   ]
  },
  {
   "cell_type": "markdown",
   "metadata": {},
   "source": [
    "## 2. Initialize and Visualize Glyphs"
   ]
  },
  {
   "cell_type": "code",
   "execution_count": 2,
   "metadata": {},
   "outputs": [],
   "source": [
    "font = '../data/demo_font.ttf'\n",
    "fonts = process_font(font, 20)"
   ]
  },
  {
   "cell_type": "code",
   "execution_count": 3,
   "metadata": {},
   "outputs": [
    {
     "data": {
      "image/png": "[encoded data removed]",
      "text/plain": [
       "<Figure size 640x480 with 1 Axes>"
      ]
     },
     "metadata": {},
     "output_type": "display_data"
    }
   ],
   "source": [
    "import numpy as np\n",
    "import matplotlib.pyplot as plt\n",
    "composite = np.hstack([fonts[c] for c in 'hello'])\n",
    "plt.imshow(composite, cmap='gray')\n",
    "plt.axis('off')\n",
    "plt.show()"
   ]
  },
  {
   "cell_type": "markdown",
   "metadata": {},
   "source": [
    "# Normalize glyphs: values close to 0 for white, 1 for black."
   ]
  },
  {
   "cell_type": "code",
   "execution_count": 4,
   "metadata": {},
   "outputs": [
    {
     "name": "stdout",
     "output_type": "stream",
     "text": [
      "400 pixels\n",
      "26 chars (input_dim)\n"
     ]
    }
   ],
   "source": [
    "char_to_pix = {k: ((255 - fonts[k]) / 255) for k in fonts.keys()}\n",
    "pix_len = char_to_pix['a'].view(-1).shape[0]\n",
    "input_dim = len(char_to_pix)\n",
    "print(f\"{pix_len} pixels\")\n",
    "print(f\"{input_dim} chars (input_dim)\")"
   ]
  },
  {
   "cell_type": "markdown",
   "metadata": {},
   "source": [
    "## 3. Build MLP from Scratch"
   ]
  },
  {
   "cell_type": "code",
   "execution_count": 5,
   "metadata": {},
   "outputs": [],
   "source": [
    "import torch\n",
    "import torch.nn.functional as F\n",
    "import math\n",
    "import string\n",
    "\n",
    "g = torch.Generator().manual_seed(1337)\n",
    "\n",
    "class Linear:\n",
    "    def __init__(self, in_features, out_features, bias=True):\n",
    "        if hasattr(in_features, 'out_features'):\n",
    "            in_features = in_features.out_features\n",
    "        self.in_features = in_features\n",
    "        self.out_features = out_features\n",
    "        k = math.sqrt(1 / in_features)\n",
    "        self.weight = torch.empty(out_features, in_features).uniform_(-k, k, generator=g)\n",
    "        self.bias = torch.empty(out_features).uniform_(-k, k, generator=g) if bias else None\n",
    "\n",
    "    def __call__(self, incoming):\n",
    "        out = incoming @ self.weight.T\n",
    "        if self.bias is not None:\n",
    "            out += self.bias\n",
    "        return out\n",
    "\n",
    "    def parameters(self):\n",
    "        return [self.weight] + ([] if self.bias is None else [self.bias])\n",
    "\n",
    "class Gelu:\n",
    "    def __call__(self, x):\n",
    "        self.out = F.gelu(x)\n",
    "        return self.out\n",
    "    def parameters(self):\n",
    "        return []\n"
   ]
  },
  {
   "cell_type": "markdown",
   "metadata": {},
   "source": [
    "## 4. Initialize Embedding Table & Model Layers"
   ]
  },
  {
   "cell_type": "code",
   "execution_count": 6,
   "metadata": {},
   "outputs": [
    {
     "name": "stdout",
     "output_type": "stream",
     "text": [
      "Total params: 207300\n"
     ]
    }
   ],
   "source": [
    "n_embd = 50\n",
    "C = torch.randn((input_dim, n_embd))  # embedding for each character\n",
    "\n",
    "layers = [\n",
    "    Linear(n_embd, 100), Gelu(),\n",
    "    Linear(100, 200), Gelu(),\n",
    "    Linear(200, 300), Gelu(),\n",
    "    Linear(300, 400), Gelu(),    # final output: 400 pixels (20x20)\n",
    "]\n",
    "\n",
    "parameters = [C] + [p for layer in layers for p in layer.parameters()]\n",
    "print(f\"Total params: {sum(p.nelement() for p in parameters)}\")\n",
    "for p in parameters:\n",
    "    p.requires_grad = True"
   ]
  },
  {
   "cell_type": "markdown",
   "metadata": {},
   "source": [
    "## 5. Define Forward Pass"
   ]
  },
  {
   "cell_type": "code",
   "execution_count": 7,
   "metadata": {},
   "outputs": [],
   "source": [
    "def forward(x):\n",
    "    for layer in layers:\n",
    "        x = layer(x)\n",
    "    return x"
   ]
  },
  {
   "cell_type": "markdown",
   "metadata": {},
   "source": [
    "## 6. Train the Model\n",
    "\n",
    "For each character, pass its embedding through the model and compare the output to its target glyph."
   ]
  },
  {
   "cell_type": "code",
   "execution_count": 8,
   "metadata": {},
   "outputs": [
    {
     "name": "stdout",
     "output_type": "stream",
     "text": [
      "step 0: avg loss 0.251507\n",
      "step 1000: avg loss 0.000207\n",
      "step 2000: avg loss 0.000012\n",
      "step 3000: avg loss 0.000002\n",
      "step 4000: avg loss 0.000001\n"
     ]
    }
   ],
   "source": [
    "for step in range(5000):\n",
    "    losses = []\n",
    "\n",
    "    for i in range(26):\n",
    "        emb = C[i]  # embedding for char i\n",
    "        target = char_to_pix[string.ascii_lowercase[i]].view(-1)\n",
    "        pred = forward(emb)\n",
    "        loss = F.mse_loss(pred, target)\n",
    "        losses.append(loss)\n",
    "        loss.backward()\n",
    "\n",
    "    for p in parameters:\n",
    "        p.data -= 0.1 * p.grad\n",
    "        p.grad = None\n",
    "\n",
    "    if step % 1000 == 0:\n",
    "        print(f\"step {step}: avg loss {sum(losses).item() / len(losses):.6f}\")"
   ]
  },
  {
   "cell_type": "markdown",
   "metadata": {},
   "source": [
    "## 7. Visualize a Generated Glyph"
   ]
  },
  {
   "cell_type": "code",
   "execution_count": 9,
   "metadata": {},
   "outputs": [
    {
     "data": {
      "image/png": "[encoded data removed]",
      "text/plain": [
       "<Figure size 640x480 with 1 Axes>"
      ]
     },
     "metadata": {},
     "output_type": "display_data"
    }
   ],
   "source": [
    "pred = forward(C[0])  # character 'a'\n",
    "plt.imshow(pred.view(20, 20).detach(), cmap='gray')\n",
    "plt.title(\"Generated 'a'\")\n",
    "plt.axis('off')\n",
    "plt.show()"
   ]
  }
 ],
 "metadata": {
  "kernelspec": {
   "display_name": "Python 3 (ipykernel)",
   "language": "python",
   "name": "python3"
  },
  "language_info": {
   "codemirror_mode": {
    "name": "ipython",
    "version": 3
   },
   "file_extension": ".py",
   "mimetype": "text/x-python",
   "name": "python",
   "nbconvert_exporter": "python",
   "pygments_lexer": "ipython3",
   "version": "3.12.3"
  }
 },
 "nbformat": 4,
 "nbformat_minor": 2
}
