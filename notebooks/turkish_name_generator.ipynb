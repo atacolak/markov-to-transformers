{
  "nbformat": 4,
  "nbformat_minor": 0,
  "metadata": {
    "colab": {
      "provenance": []
    },
    "kernelspec": {
      "name": "python3",
      "display_name": "Python 3"
    },
    "language_info": {
      "name": "python"
    }
  },
  "cells": [
    {
      "cell_type": "code",
      "execution_count": 1,
      "metadata": {
        "id": "GbLzfsHKE9ja"
      },
      "outputs": [],
      "source": [
        "import torch\n",
        "import torch.nn.functional as F\n",
        "import random\n",
        "\n",
        "g = torch.Generator().manual_seed(1337)"
      ]
    },
    {
      "cell_type": "code",
      "source": [
        "class Linear:\n",
        "  def __init__(self, ins, outs, bias=False):\n",
        "    self.weights = torch.empty(outs, ins)\n",
        "    torch.nn.init.kaiming_uniform_(self.weights, mode='fan_in', nonlinearity='relu', generator=g)\n",
        "    if bias:\n",
        "      self.biases = torch.rand(outs, generator=g)\n",
        "    else:\n",
        "      self.biases = None\n",
        "\n",
        "  def __call__(self, x):\n",
        "    pre_act = x @ self.weights.T\n",
        "    if self.biases is not None:\n",
        "      pre_act += self.biases\n",
        "    return pre_act\n",
        "\n",
        "  def params(self):\n",
        "    return [self.weights] + [self.biases] if self.biases is not None else [self.weights]"
      ],
      "metadata": {
        "id": "F1eFZB7cFF4n"
      },
      "execution_count": 2,
      "outputs": []
    },
    {
      "cell_type": "code",
      "source": [
        "class Relu:\n",
        "  def __call__(self, x):\n",
        "    self.out = F.relu(x)\n",
        "    return self.out\n",
        "\n",
        "class Softmax:\n",
        "  def __call__(self, x):\n",
        "    self.out = F.softmax(x)\n",
        "    return self.out"
      ],
      "metadata": {
        "id": "EvkrR0BmLuQm"
      },
      "execution_count": 3,
      "outputs": []
    },
    {
      "cell_type": "code",
      "source": [
        "class BatchNorm1d:\n",
        "  def __init__(self, dim, eps=1e-5, momentum=0.1):\n",
        "    self.dim = dim\n",
        "    self.eps = eps\n",
        "    self.momentum = momentum\n",
        "    self.training = True\n",
        "    # gamma & beta: trainable parameters to scale or move the normed batch\n",
        "    self.gamma = torch.ones(dim)\n",
        "    self.beta = torch.zeros(dim)\n",
        "    # for inference\n",
        "    self.running_mean = torch.zeros(dim)\n",
        "    self.running_var = torch.ones(dim)\n",
        "\n",
        "  def __call__(self, x):\n",
        "    if self.training:   # train vars\n",
        "      xmean = x.mean(0, keepdim=True)\n",
        "      xvar = x.var(0, keepdim=True)\n",
        "    else:               # inference vars\n",
        "      xmean = self.running_mean\n",
        "      xvar = self.running_var\n",
        "\n",
        "    xhat = (x - xmean) / torch.sqrt(xvar + self.eps)\n",
        "    self.out = self.gamma * xhat + self.beta\n",
        "\n",
        "    if self.training: # calculate running mean/var\n",
        "      self.running_mean = (1 - self.momentum) * self.running_mean + self.momentum * xmean\n",
        "      self.running_var = (1 - self.momentum) * self.running_var + self.momentum * xvar\n",
        "    return self.out\n",
        "\n",
        "  def params(self):\n",
        "    return [self.gamma] + [self.beta]"
      ],
      "metadata": {
        "id": "sHru16RSL4u1"
      },
      "execution_count": 4,
      "outputs": []
    },
    {
      "cell_type": "code",
      "source": [
        "# ---------------------------------------------------------------------"
      ],
      "metadata": {
        "id": "PgTmKI5EW0Zm"
      },
      "execution_count": 5,
      "outputs": []
    },
    {
      "cell_type": "code",
      "source": [
        "with open('turkish_names.txt', 'r') as f:\n",
        "  lines = f.read().splitlines()\n",
        "len(lines)\n",
        "\n",
        "trchr_to_utf8 = {\n",
        "    'İ': 'i',\n",
        "    'I': '!',\n",
        "    'Ö': '@',\n",
        "    'Ü': '#',\n",
        "    'Ş': '$',\n",
        "    'Ç': '^',\n",
        "    'Ğ': '&'}\n",
        "\n",
        "words = [word for line in lines for word in line.split()]\n",
        "names = [''.join(trchr_to_utf8.get(ch, ch) for ch in name).lower() for name in words]\n",
        "# ^ turkish phonemes transmogrified into utf-8 sigils ^-^\n",
        "names[:10]"
      ],
      "metadata": {
        "colab": {
          "base_uri": "https://localhost:8080/"
        },
        "id": "vV21dz9mmszn",
        "outputId": "5439c8a8-1851-4278-c096-15025251b7b8"
      },
      "execution_count": 6,
      "outputs": [
        {
          "output_type": "execute_result",
          "data": {
            "text/plain": [
              "['jale',\n",
              " 'ali',\n",
              " 'mahmut',\n",
              " 'mansur',\n",
              " 'k#r$ad',\n",
              " 'gamze',\n",
              " 'mira^',\n",
              " 'y#cel',\n",
              " 'kubilay',\n",
              " 'hayati']"
            ]
          },
          "metadata": {},
          "execution_count": 6
        }
      ]
    },
    {
      "cell_type": "code",
      "source": [
        "chars = ['.'] + sorted(list(set(ch for name in names for ch in name)))\n",
        "# ^ no need to sort tbh.    '.' as special start/end token.\n",
        "i_to_s = {i: chars[i] for i in range(len(chars))}\n",
        "s_to_i = {v: k for k, v in i_to_s.items()}"
      ],
      "metadata": {
        "id": "m9laLxgZmuoG"
      },
      "execution_count": 7,
      "outputs": []
    },
    {
      "cell_type": "code",
      "source": [
        "block_size = 3 # how many characters should it take to predict the next one?\n",
        "# . . . -> a; . . a -> t; . a t -> a\n",
        "def create_dataset(names):\n",
        "  X, Y = [], []\n",
        "  for name in names:\n",
        "    name = f\"{name}.\"   # add end token to each name\n",
        "    context = [0] * block_size # initialized as `. . .`\n",
        "    for ch in name:\n",
        "      X.append(context)\n",
        "      Y.append(s_to_i[ch])\n",
        "      context = context[1:] + [s_to_i[ch]]\n",
        "  return torch.tensor(X), torch.tensor(Y)\n",
        "\n",
        "X, Y = create_dataset(names[:5])\n",
        "X[:10], Y[:10]"
      ],
      "metadata": {
        "colab": {
          "base_uri": "https://localhost:8080/"
        },
        "id": "SvQNJByJybfL",
        "outputId": "771a0f0d-244c-4d84-dff5-f450af21a245"
      },
      "execution_count": 8,
      "outputs": [
        {
          "output_type": "execute_result",
          "data": {
            "text/plain": [
              "(tensor([[ 0,  0,  0],\n",
              "         [ 0,  0, 16],\n",
              "         [ 0, 16,  7],\n",
              "         [16,  7, 18],\n",
              "         [ 7, 18, 11],\n",
              "         [ 0,  0,  0],\n",
              "         [ 0,  0,  7],\n",
              "         [ 0,  7, 18],\n",
              "         [ 7, 18, 15],\n",
              "         [ 0,  0,  0]]),\n",
              " tensor([16,  7, 18, 11,  0,  7, 18, 15,  0, 19]))"
            ]
          },
          "metadata": {},
          "execution_count": 8
        }
      ]
    },
    {
      "cell_type": "code",
      "source": [
        "block_size = 3 # how many characters should it take to predict the next one?\n",
        "# . . . -> a; . . a -> t; . a t -> a\n",
        "def create_dataset(names):\n",
        "  X, Y = [], []\n",
        "  for name in names:\n",
        "    name = f\"{name}.\"   # add end token to each name\n",
        "    context = [0] * block_size # initialized as `. . .`\n",
        "    for ch in name:\n",
        "      X.append(context)\n",
        "      Y.append(s_to_i[ch])\n",
        "      context = context[1:] + [s_to_i[ch]]\n",
        "  return torch.tensor(X), torch.tensor(Y)"
      ],
      "metadata": {
        "id": "PuqA7JObulfn"
      },
      "execution_count": 9,
      "outputs": []
    },
    {
      "cell_type": "code",
      "source": [
        "random.shuffle(names)\n",
        "\n",
        "n1 = int(len(names) * 0.1)\n",
        "\n",
        "Xtr, Ytr = create_dataset(names[n1*2:]) # 80% train split\n",
        "Xte, Yte = create_dataset(names[:n1]) # 10% test\n",
        "Xval, Yval = create_dataset(names[n1:n1*2]) # 10% valid\n",
        "\n",
        "# precision spell\n",
        "avg_len = sum(len(name) + 1 for name in names) / len(names)\n",
        "actual = (len(Xtr) + len(Xte) + len(Xval)) / len(names)\n",
        "assert abs(avg_len - actual) < 1e-6, '\\nSize mismatch.\\nWhat did you break?'"
      ],
      "metadata": {
        "id": "cACbF1JGxXy3"
      },
      "execution_count": 10,
      "outputs": []
    },
    {
      "cell_type": "code",
      "source": [
        "emb_dim = 2 # each character's embedding will be a vector of size (2).\n",
        "C = torch.rand(len(chars), emb_dim)\n",
        "emb = C[Xtr].view((Xtr.shape[0], -1))\n",
        "\n",
        "\n",
        "n_hidden = 100 #neuron count for hidden layers\n",
        "\n",
        "layers = [\n",
        "    Linear(emb.shape[1], n_hidden), BatchNorm1d(n_hidden), Relu(),\n",
        "    Linear(n_hidden, n_hidden), BatchNorm1d(n_hidden), Relu(),\n",
        "    Linear(n_hidden, len(chars)), BatchNorm1d(len(chars))#, Softmax() SOFTMAX BEFORE CROSSENTROPY??? NO WAY\n",
        "    ##### TODO : TEST WITH AND WITHOUT BATCHNORM BEFORE SOFTMAX.\n",
        "]"
      ],
      "metadata": {
        "id": "aEgxnZO9XTF-"
      },
      "execution_count": 11,
      "outputs": []
    },
    {
      "cell_type": "code",
      "source": [
        "parameters = []\n",
        "for layer in layers:\n",
        "  if hasattr(layer, 'params'):\n",
        "    parameters.extend(layer.params())\n",
        "parameters.append(C)\n",
        "\n",
        "for p in parameters:\n",
        "  p.requires_grad = True\n",
        "\n",
        "print(f'{len([p for param in parameters for p in param])} parameters.')"
      ],
      "metadata": {
        "colab": {
          "base_uri": "https://localhost:8080/"
        },
        "id": "s0xoj5NvZ87N",
        "outputId": "ada51fbf-5922-4576-9333-be9fce75275c"
      },
      "execution_count": 12,
      "outputs": [
        {
          "output_type": "stream",
          "name": "stdout",
          "text": [
            "720 parameters.\n"
          ]
        }
      ]
    },
    {
      "cell_type": "code",
      "source": [
        "batch_size = 32\n",
        "losses = []\n",
        "for i in range(30000):\n",
        "\n",
        "  ib = torch.randint(0, emb.shape[0], (batch_size,)) # indices of the elements in the batch\n",
        "  #emb = C.view\n",
        "  Xb = C[Xtr[ib]].view(batch_size, -1)\n",
        "  Yb = Ytr[ib] # initialize batches\n",
        "\n",
        "# forward pass\n",
        "  for layer in layers:\n",
        "    Xb = layer(Xb)\n",
        "# backward pass\n",
        "  loss = F.cross_entropy(Xb, Yb)\n",
        "  loss.backward()\n",
        "  losses.append(loss.item())\n",
        "# update\n",
        "  for p in parameters:\n",
        "    if i < 25000:\n",
        "        p.data += -0.01 * p.grad\n",
        "    else:\n",
        "        p.data += -0.001 * p.grad\n",
        "\n",
        "  for p in parameters:\n",
        "    p.grad = None\n",
        "  if i%10000 == 0:\n",
        "    print(f\"step {i}\\ntrain loss: {loss:.5f}\")\n",
        "    X = C[Xval].view(Xval.shape[0], -1)\n",
        "    Y = Yval # initialize batches\n",
        "    # forward pass\n",
        "    for layer in layers:\n",
        "        X = layer(X)\n",
        "    val_loss = F.cross_entropy(X, Y)\n",
        "    print(f\"valid loss: {val_loss:.5f}\")\n",
        "\n",
        "print(f\"avg train loss: {sum(losses) / len(losses)}\")"
      ],
      "metadata": {
        "colab": {
          "base_uri": "https://localhost:8080/"
        },
        "id": "1TtzAZ8MZ2xd",
        "outputId": "7f88b9ba-4c0e-4fee-c09f-393e2c9553de"
      },
      "execution_count": 13,
      "outputs": [
        {
          "output_type": "stream",
          "name": "stdout",
          "text": [
            "step 0\n",
            "train loss: 3.77297\n",
            "valid loss: 3.85033\n",
            "step 10000\n",
            "train loss: 2.05923\n",
            "valid loss: 1.94458\n",
            "step 20000\n",
            "train loss: 2.03802\n",
            "valid loss: 1.82128\n",
            "avg train loss: 2.045708241466681\n"
          ]
        }
      ]
    },
    {
      "cell_type": "code",
      "source": [
        "# Test results\n",
        "X = C[Xtr].view(Xtr.shape[0], -1)\n",
        "Y = Ytr # initialize batches\n",
        "# forward pass\n",
        "for layer in layers:\n",
        "    X = layer(X)\n",
        "# backward pass\n",
        "loss = F.cross_entropy(X, Y)\n",
        "print(f\"test loss: {loss}\")"
      ],
      "metadata": {
        "colab": {
          "base_uri": "https://localhost:8080/"
        },
        "id": "qTdQ1VKjzqEM",
        "outputId": "2c622759-0d7e-4c85-9295-b5d6aa9b3813"
      },
      "execution_count": 14,
      "outputs": [
        {
          "output_type": "stream",
          "name": "stdout",
          "text": [
            "test loss: 1.70303475856781\n"
          ]
        }
      ]
    },
    {
      "cell_type": "code",
      "source": [
        "utf8_to_trchr = {v: k for k, v in trchr_to_utf8.items()}\n",
        "def undo_utf8(name: str):\n",
        "    name = ''.join(utf8_to_trchr.get(ch, ch) for ch in name).lower()\n",
        "    return name"
      ],
      "metadata": {
        "id": "XwNCGz6O0mM9"
      },
      "execution_count": 15,
      "outputs": []
    },
    {
      "cell_type": "code",
      "source": [
        "import matplotlib.pyplot as plt\n",
        "\n",
        "plt.plot(losses)"
      ],
      "metadata": {
        "colab": {
          "base_uri": "https://localhost:8080/",
          "height": 448
        },
        "id": "iKS-58oS3wje",
        "outputId": "7f4dbade-4b3f-43e5-fea1-f53c69b3c238"
      },
      "execution_count": 17,
      "outputs": [
        {
          "output_type": "execute_result",
          "data": {
            "text/plain": [
              "[<matplotlib.lines.Line2D at 0x7830cbe230d0>]"
            ]
          },
          "metadata": {},
          "execution_count": 17
        },
        {
          "output_type": "display_data",
          "data": {
            "text/plain": [
              "<Figure size 640x480 with 1 Axes>"
            ],
            "image/png": "[encoded data removed]"
          },
          "metadata": {}
        }
      ]
    },
    {
      "cell_type": "code",
      "source": [
        "# ---   INFERENCE   ---\n",
        "for layer in layers:\n",
        "  if hasattr(layer, 'training'):\n",
        "    layer.training = False\n",
        "\n",
        "while True:\n",
        "  name_count = int(input(\"How many names will be generated? (0 to exit): \"))\n",
        "  if name_count == 0:\n",
        "    break\n",
        "\n",
        "  for i in range(name_count):\n",
        "    context = [0] * block_size\n",
        "    name = ''\n",
        "    while True:\n",
        "      emb = C[context].view(-1, block_size * emb_dim)\n",
        "      for layer in layers:\n",
        "        emb = layer(emb)\n",
        "      pred = torch.multinomial(F.softmax(emb, dim=1), 1).item()\n",
        "      if i_to_s[pred] == '.':\n",
        "        break\n",
        "      context = context[1:] + [pred]\n",
        "      #print(context)\n",
        "      name += i_to_s[pred]\n",
        "\n",
        "    name = undo_utf8(name)\n",
        "    print(name)\n"
      ],
      "metadata": {
        "colab": {
          "base_uri": "https://localhost:8080/"
        },
        "id": "y2AyjAp_uG7s",
        "outputId": "257764be-2db7-45f1-b672-8391e8337d8f"
      },
      "execution_count": 18,
      "outputs": [
        {
          "name": "stdout",
          "output_type": "stream",
          "text": [
            "How many names will be generated? (0 to exit): 5\n",
            "nei̇nşan\n",
            "rerman\n",
            "ahi̇r\n",
            "si̇m\n",
            "ni̇nuç\n",
            "How many names will be generated? (0 to exit): 5\n",
            "fer\n",
            "ci̇m\n",
            "hüseyi̇ne\n",
            "zas\n",
            "bubi̇l\n",
            "How many names will be generated? (0 to exit): 0\n"
          ]
        }
      ]
    }
  ]
}